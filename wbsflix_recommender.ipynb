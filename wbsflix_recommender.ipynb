{
 "cells": [
  {
   "cell_type": "code",
   "execution_count": 1,
   "id": "fab00f9d-35ae-425c-a846-971ab605fbfb",
   "metadata": {},
   "outputs": [],
   "source": [
    "import pandas as pd"
   ]
  },
  {
   "cell_type": "code",
   "execution_count": 2,
   "id": "6b88468f-d8d0-4862-a49d-4517503a0557",
   "metadata": {},
   "outputs": [],
   "source": [
    "links = pd.read_csv('wbsflix-dataset/ml-latest-small/links.csv')\n",
    "movies = pd.read_csv('wbsflix-dataset/ml-latest-small/movies.csv')\n",
    "ratings = pd.read_csv('wbsflix-dataset/ml-latest-small/ratings.csv')\n",
    "tags = pd.read_csv('wbsflix-dataset/ml-latest-small/tags.csv')"
   ]
  },
  {
   "cell_type": "code",
   "execution_count": 3,
   "id": "3ccebed9-f5a4-4ca0-a6b4-d9733d1533f5",
   "metadata": {},
   "outputs": [
    {
     "data": {
      "text/html": [
       "<div>\n",
       "<style scoped>\n",
       "    .dataframe tbody tr th:only-of-type {\n",
       "        vertical-align: middle;\n",
       "    }\n",
       "\n",
       "    .dataframe tbody tr th {\n",
       "        vertical-align: top;\n",
       "    }\n",
       "\n",
       "    .dataframe thead th {\n",
       "        text-align: right;\n",
       "    }\n",
       "</style>\n",
       "<table border=\"1\" class=\"dataframe\">\n",
       "  <thead>\n",
       "    <tr style=\"text-align: right;\">\n",
       "      <th></th>\n",
       "      <th>userId</th>\n",
       "      <th>movieId</th>\n",
       "      <th>rating</th>\n",
       "      <th>timestamp</th>\n",
       "    </tr>\n",
       "  </thead>\n",
       "  <tbody>\n",
       "    <tr>\n",
       "      <th>0</th>\n",
       "      <td>1</td>\n",
       "      <td>1</td>\n",
       "      <td>4.0</td>\n",
       "      <td>964982703</td>\n",
       "    </tr>\n",
       "    <tr>\n",
       "      <th>1</th>\n",
       "      <td>1</td>\n",
       "      <td>3</td>\n",
       "      <td>4.0</td>\n",
       "      <td>964981247</td>\n",
       "    </tr>\n",
       "    <tr>\n",
       "      <th>2</th>\n",
       "      <td>1</td>\n",
       "      <td>6</td>\n",
       "      <td>4.0</td>\n",
       "      <td>964982224</td>\n",
       "    </tr>\n",
       "    <tr>\n",
       "      <th>3</th>\n",
       "      <td>1</td>\n",
       "      <td>47</td>\n",
       "      <td>5.0</td>\n",
       "      <td>964983815</td>\n",
       "    </tr>\n",
       "    <tr>\n",
       "      <th>4</th>\n",
       "      <td>1</td>\n",
       "      <td>50</td>\n",
       "      <td>5.0</td>\n",
       "      <td>964982931</td>\n",
       "    </tr>\n",
       "  </tbody>\n",
       "</table>\n",
       "</div>"
      ],
      "text/plain": [
       "   userId  movieId  rating  timestamp\n",
       "0       1        1     4.0  964982703\n",
       "1       1        3     4.0  964981247\n",
       "2       1        6     4.0  964982224\n",
       "3       1       47     5.0  964983815\n",
       "4       1       50     5.0  964982931"
      ]
     },
     "execution_count": 3,
     "metadata": {},
     "output_type": "execute_result"
    }
   ],
   "source": [
    "ratings.head()"
   ]
  },
  {
   "cell_type": "markdown",
   "id": "f3cc51ff-b3fc-4fb1-885c-53dca3846258",
   "metadata": {},
   "source": [
    "Function that takes as an input a user id and outputs the top n movies:"
   ]
  },
  {
   "cell_type": "code",
   "execution_count": 9,
   "id": "2f59cacd-97a3-4794-854c-f8b920a098ba",
   "metadata": {},
   "outputs": [],
   "source": [
    "top_movies_for_id = []\n",
    "def top_movies(df_rate, df_movies, name, n):\n",
    "    df_merge = df_rate.merge(df_movies, how='inner', on='movieId').filter(['userId', 'rating', 'title'])\n",
    "    df_pivot = pd.pivot_table(df_merge, values='rating', columns='title', index='userId')\n",
    "    df_movie_list = df_pivot.columns.values.tolist()\n",
    "    for value in df_movie_list:\n",
    "        if df_pivot.loc[name][value] == 5:\n",
    "            top_movies_for_id.append(value)\n",
    "            if len(top_movies_for_id) == n:\n",
    "                break\n",
    "    return top_movies_for_id"
   ]
  },
  {
   "cell_type": "code",
   "execution_count": 10,
   "id": "a83b6fac-d566-48d2-85f9-c1ad21889631",
   "metadata": {},
   "outputs": [
    {
     "data": {
      "text/plain": [
       "['Adventures of Robin Hood, The (1938)',\n",
       " 'Alice in Wonderland (1951)',\n",
       " 'All Quiet on the Western Front (1930)',\n",
       " 'American Beauty (1999)',\n",
       " 'American History X (1998)',\n",
       " 'American Tail, An (1986)',\n",
       " 'Austin Powers: International Man of Mystery (1997)',\n",
       " 'Back to the Future (1985)',\n",
       " 'Bambi (1942)',\n",
       " 'Basic Instinct (1992)',\n",
       " 'Bedknobs and Broomsticks (1971)',\n",
       " 'Big Lebowski, The (1998)',\n",
       " 'Billy Madison (1995)',\n",
       " 'Black Cauldron, The (1985)',\n",
       " 'Blazing Saddles (1974)',\n",
       " 'Blues Brothers, The (1980)',\n",
       " 'Bottle Rocket (1996)',\n",
       " 'Canadian Bacon (1995)',\n",
       " \"Charlotte's Web (1973)\",\n",
       " 'Citizen Kane (1941)',\n",
       " 'Clockwork Orange, A (1971)',\n",
       " 'Conan the Barbarian (1982)',\n",
       " 'Crocodile Dundee (1986)',\n",
       " 'Desperado (1995)',\n",
       " 'Dirty Dozen, The (1967)',\n",
       " 'Dogma (1999)',\n",
       " 'Dr. No (1962)',\n",
       " 'Duck Soup (1933)',\n",
       " 'Dumb & Dumber (Dumb and Dumber) (1994)',\n",
       " 'Dumbo (1941)']"
      ]
     },
     "execution_count": 10,
     "metadata": {},
     "output_type": "execute_result"
    }
   ],
   "source": [
    "top_movies(ratings, movies, 1, 30)"
   ]
  },
  {
   "cell_type": "markdown",
   "id": "cb0fe619-b014-47fa-b36d-b70ebf1f813e",
   "metadata": {},
   "source": [
    "Function to get the most popular movies"
   ]
  },
  {
   "cell_type": "code",
   "execution_count": 6,
   "id": "b985ca7e-face-48dc-8d75-8d5c9b94a626",
   "metadata": {},
   "outputs": [],
   "source": [
    "def pop_movies(df_rate, df_movies, rate_tresh):\n",
    "    df_merge = df_rate.merge(df_movies, how='inner', on='movieId').filter(['userId', 'rating', 'title'])\n",
    "    df = df_merge.groupby('title').agg(rate_count=('rating','count'), rate_mean=('rating','mean')).query('rate_count >= @rate_tresh').sort_values('rate_mean', ascending=False)\n",
    "    return df.index.to_list()"
   ]
  },
  {
   "cell_type": "code",
   "execution_count": 7,
   "id": "bc2ab41b-b5a8-4cd5-8322-a736a6db515d",
   "metadata": {},
   "outputs": [
    {
     "data": {
      "text/plain": [
       "['Shawshank Redemption, The (1994)',\n",
       " 'Fight Club (1999)',\n",
       " 'Usual Suspects, The (1995)',\n",
       " 'Star Wars: Episode IV - A New Hope (1977)',\n",
       " \"Schindler's List (1993)\",\n",
       " 'Star Wars: Episode V - The Empire Strikes Back (1980)',\n",
       " 'Raiders of the Lost Ark (Indiana Jones and the Raiders of the Lost Ark) (1981)',\n",
       " 'Pulp Fiction (1994)',\n",
       " 'Matrix, The (1999)',\n",
       " 'Forrest Gump (1994)',\n",
       " 'Silence of the Lambs, The (1991)',\n",
       " 'American Beauty (1999)',\n",
       " 'Braveheart (1995)',\n",
       " 'Seven (a.k.a. Se7en) (1995)',\n",
       " 'Terminator 2: Judgment Day (1991)',\n",
       " 'Toy Story (1995)',\n",
       " 'Apollo 13 (1995)',\n",
       " 'Jurassic Park (1993)',\n",
       " 'Independence Day (a.k.a. ID4) (1996)']"
      ]
     },
     "execution_count": 7,
     "metadata": {},
     "output_type": "execute_result"
    }
   ],
   "source": [
    "pop_movies(ratings, movies, 200)"
   ]
  }
 ],
 "metadata": {
  "kernelspec": {
   "display_name": "Python 3",
   "language": "python",
   "name": "python3"
  },
  "language_info": {
   "codemirror_mode": {
    "name": "ipython",
    "version": 3
   },
   "file_extension": ".py",
   "mimetype": "text/x-python",
   "name": "python",
   "nbconvert_exporter": "python",
   "pygments_lexer": "ipython3",
   "version": "3.8.8"
  }
 },
 "nbformat": 4,
 "nbformat_minor": 5
}
