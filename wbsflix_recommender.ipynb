{
 "cells": [
  {
   "cell_type": "markdown",
   "id": "41451667-7f76-42f9-b2ce-458e7b1bb249",
   "metadata": {},
   "source": [
    "# WBSflix recommenders"
   ]
  },
  {
   "cell_type": "code",
   "execution_count": 1,
   "id": "474c31cf-23ac-442b-a537-3413ce7f7fb6",
   "metadata": {},
   "outputs": [],
   "source": [
    "import pandas as pd\n",
    "import random"
   ]
  },
  {
   "cell_type": "code",
   "execution_count": 2,
   "id": "e5684f89-479e-4744-a2f4-5a0d13ecf3da",
   "metadata": {},
   "outputs": [],
   "source": [
    "links = pd.read_csv('wbsflix-dataset/ml-latest-small/links.csv')\n",
    "movies = pd.read_csv('wbsflix-dataset/ml-latest-small/movies.csv')\n",
    "ratings = pd.read_csv('wbsflix-dataset/ml-latest-small/ratings.csv')\n",
    "tags = pd.read_csv('wbsflix-dataset/ml-latest-small/tags.csv')"
   ]
  },
  {
   "cell_type": "markdown",
   "id": "7b53ab82-d756-4f20-9e5e-36e08e7da369",
   "metadata": {},
   "source": [
    "### Function that takes as an input a user id and outputs the top n movies of the user:"
   ]
  },
  {
   "cell_type": "code",
   "execution_count": 3,
   "id": "1c261665-31bc-406e-a15c-8ce1fa2fd3f4",
   "metadata": {},
   "outputs": [],
   "source": [
    "def top_movies(df_rate, df_movies, name, range_of_days:float, n):\n",
    "    top_movies_for_id = []\n",
    "    df_merge = (df_rate\n",
    "                .merge(df_movies, on='movieId')\n",
    "                .assign(time_count = round(abs(ratings['timestamp']-max(ratings['timestamp']))/60/60/24))\n",
    "                .sort_values('time_count')\n",
    "                .filter(['userId', 'rating', 'title', 'time_count'])\n",
    "                .query('time_count<=@range_of_days')\n",
    "               )\n",
    "    df_pivot = pd.pivot_table(df_merge, values='rating', columns='title', index='userId')\n",
    "    df_movie_list = df_pivot.columns.values.tolist()\n",
    "    random.shuffle(df_movie_list)\n",
    "    for value in df_movie_list:\n",
    "        if df_pivot.loc[name][value] >= 4:\n",
    "            top_movies_for_id.append(value)\n",
    "            if len(top_movies_for_id) == n:\n",
    "                break\n",
    "    return top_movies_for_id"
   ]
  },
  {
   "cell_type": "code",
   "execution_count": 4,
   "id": "2f59d8a2-3d1c-4dd0-916c-7ea085969f18",
   "metadata": {},
   "outputs": [
    {
     "data": {
      "text/plain": [
       "['Indiana Jones and the Last Crusade (1989)',\n",
       " '20 Dates (1998)',\n",
       " 'Easy Rider (1969)',\n",
       " 'Office Space (1999)',\n",
       " 'Beetlejuice (1988)']"
      ]
     },
     "execution_count": 4,
     "metadata": {},
     "output_type": "execute_result"
    }
   ],
   "source": [
    "top_movies(ratings, movies, 1, 150, 5)"
   ]
  },
  {
   "cell_type": "markdown",
   "id": "0f511681-6df2-4bba-910f-8faac7699365",
   "metadata": {},
   "source": [
    "### Function to get the most popular movies"
   ]
  },
  {
   "cell_type": "code",
   "execution_count": 5,
   "id": "928b41ec-9b70-417f-96ce-9c4b2a1b610b",
   "metadata": {},
   "outputs": [],
   "source": [
    "def pop_movies(df_rate, df_movies, rate_tresh, range_of_days:float):\n",
    "    df_merge = (df_rate\n",
    "                .merge(df_movies, on='movieId')\n",
    "                .assign(time_count = round(abs(ratings['timestamp']-max(ratings['timestamp']))/60/60/24))\n",
    "                .sort_values('time_count')\n",
    "                .filter(['userId', 'rating', 'title', 'time_count'])\n",
    "                .query('time_count<=@range_of_days')\n",
    "               )\n",
    "    df = df_merge.groupby('title').agg(rate_count=('rating','count'), rate_mean=('rating','mean')).query('rate_count >= @rate_tresh').sort_values('rate_mean', ascending=False)\n",
    "    return df.index.to_list()"
   ]
  },
  {
   "cell_type": "code",
   "execution_count": 6,
   "id": "88dc1d4a-8085-4b6a-b629-1f8b3d3c7386",
   "metadata": {},
   "outputs": [
    {
     "data": {
      "text/plain": [
       "['Toy Story 2 (1999)',\n",
       " 'V for Vendetta (2006)',\n",
       " 'Social Network, The (2010)',\n",
       " 'Moneyball (2011)',\n",
       " 'Star Trek (2009)',\n",
       " 'Last Samurai, The (2003)',\n",
       " 'Star Trek II: The Wrath of Khan (1982)',\n",
       " 'Wrestler, The (2008)',\n",
       " 'Sin City (2005)',\n",
       " 'Dances with Wolves (1990)',\n",
       " 'Easy Rider (1969)',\n",
       " 'Pretty Woman (1990)',\n",
       " 'Jumanji (1995)',\n",
       " 'Snowpiercer (2013)',\n",
       " 'Spider-Man (2002)',\n",
       " 'Talented Mr. Ripley, The (1999)',\n",
       " 'Man of Steel (2013)',\n",
       " 'Ice Age 2: The Meltdown (2006)',\n",
       " 'Poseidon Adventure, The (1972)']"
      ]
     },
     "execution_count": 6,
     "metadata": {},
     "output_type": "execute_result"
    }
   ],
   "source": [
    "pop_movies(ratings, movies, 20, 90)"
   ]
  },
  {
   "cell_type": "markdown",
   "id": "7b437f23-66fa-42ca-bf74-023f8d0b1a5a",
   "metadata": {},
   "source": [
    "### Item-based Collaborative Filtering: Function which outputs the top n most similar movies to top rated movies of a user"
   ]
  },
  {
   "cell_type": "code",
   "execution_count": 7,
   "id": "d0ab45da-29fb-4399-986e-1f2416a3323f",
   "metadata": {},
   "outputs": [],
   "source": [
    "def item_based_recommender(df_rate, df_movies, top_movies, range_of_days:float, tresh_n):\n",
    "    recommend_movies = []\n",
    "    df_merge = (df_rate\n",
    "                .merge(df_movies, on='movieId')\n",
    "                .assign(time_count = round(abs(ratings['timestamp']-max(ratings['timestamp']))/60/60/24))\n",
    "                .sort_values('time_count')\n",
    "                .filter(['userId', 'rating', 'title', 'time_count'])\n",
    "                .query('time_count<=@range_of_days')\n",
    "               )\n",
    "    corr = pd.pivot_table(df_merge, values='rating', columns='title', index='userId').dropna(axis='index', thresh=tresh_n).corr()\n",
    "    top_corr = corr.filter(top_movies).round(1)\n",
    "    num_list = [0.9, 1.0]\n",
    "    for i in num_list: \n",
    "        for index, value in top_corr.iterrows():\n",
    "            if i in value.values:\n",
    "                recommend_movies.append(index)\n",
    "        return recommend_movies"
   ]
  },
  {
   "cell_type": "code",
   "execution_count": 8,
   "id": "990e21a1-9451-47a2-8e50-7d6f958b9270",
   "metadata": {
    "tags": []
   },
   "outputs": [
    {
     "data": {
      "text/plain": [
       "['24 Hour Party People (2002)',\n",
       " 'Double Indemnity (1944)',\n",
       " 'Eragon (2006)',\n",
       " 'Exorcist, The (1973)',\n",
       " 'Gods Must Be Crazy, The (1980)',\n",
       " 'Importance of Being Earnest, The (2002)',\n",
       " 'Last Samurai, The (2003)',\n",
       " 'Lucy (2014)',\n",
       " 'Max (2002)',\n",
       " 'Mission to Mars (2000)',\n",
       " 'Peter Pan (2003)',\n",
       " 'Poseidon Adventure, The (1972)',\n",
       " 'Waking Life (2001)']"
      ]
     },
     "execution_count": 8,
     "metadata": {},
     "output_type": "execute_result"
    }
   ],
   "source": [
    "my_list = top_movies(ratings, movies, 1, 150, 5)\n",
    "item_based_recommender(ratings, movies, my_list, 200, 20)"
   ]
  },
  {
   "cell_type": "markdown",
   "id": "dcc676a1-d401-46c7-a962-609d79bb0e01",
   "metadata": {},
   "source": [
    "### Function for Recom-Chat-Bot"
   ]
  },
  {
   "cell_type": "code",
   "execution_count": 9,
   "id": "ea13443f-b062-4833-9c8d-dea392decc7c",
   "metadata": {},
   "outputs": [],
   "source": [
    "def item_based_chat_bot(recom_list, user_id):\n",
    "    print(f'''Hi {user_id}! I am your personal recommender.\n",
    "    Would you like me to recommend you some popular movies based on your previous ratings?''')\n",
    "    print(f'''Type [y]/[n]''')\n",
    "    x=input()\n",
    "    if(x == 'y'):\n",
    "        for movie in recom_list:\n",
    "            print(f'''{movie}''')\n",
    "    else:\n",
    "        print(f'''Goodbye!''')"
   ]
  },
  {
   "cell_type": "code",
   "execution_count": 10,
   "id": "b84a400d-4a1a-4099-b076-c20f610a0f5c",
   "metadata": {},
   "outputs": [
    {
     "name": "stdout",
     "output_type": "stream",
     "text": [
      "Hi 1! I am your personal recommender.\n",
      "    Would you like me to recommend you some popular movies based on your previous ratings?\n",
      "Type [y]/[n]\n"
     ]
    },
    {
     "name": "stdin",
     "output_type": "stream",
     "text": [
      " y\n"
     ]
    },
    {
     "name": "stdout",
     "output_type": "stream",
     "text": [
      "Exorcist, The (1973)\n",
      "Last Samurai, The (2003)\n",
      "Mission to Mars (2000)\n"
     ]
    }
   ],
   "source": [
    "item_based_chat_bot(item_based_recommender(ratings, movies, top_movies(ratings, movies, 1, 90, 5), 200, 20), 1)"
   ]
  },
  {
   "cell_type": "code",
   "execution_count": 11,
   "id": "e0ef2f55-45f8-45a3-bc91-2c65508c2178",
   "metadata": {},
   "outputs": [
    {
     "name": "stdout",
     "output_type": "stream",
     "text": [
      "Hi 1! I am your personal recommender.\n",
      "    Would you like me to recommend you some popular movies based on your previous ratings?\n",
      "Type [y]/[n]\n"
     ]
    },
    {
     "name": "stdin",
     "output_type": "stream",
     "text": [
      " n\n"
     ]
    },
    {
     "name": "stdout",
     "output_type": "stream",
     "text": [
      "Goodbye!\n"
     ]
    }
   ],
   "source": [
    "item_based_chat_bot(item_based_recommender(ratings, movies, top_movies(ratings, movies, 1, 90, 5), 200, 20), 1)"
   ]
  },
  {
   "cell_type": "markdown",
   "id": "6225b65f-c011-4d52-a503-a37c55b27930",
   "metadata": {},
   "source": [
    "### Function to find movies"
   ]
  },
  {
   "cell_type": "code",
   "execution_count": 12,
   "id": "2b7377eb-16b6-4bf2-8111-66966e526d77",
   "metadata": {},
   "outputs": [],
   "source": [
    "def movie_id_finder():\n",
    "    print(\"What movie are you looking for?\")\n",
    "    title = input().lower()\n",
    "    df = (movies\n",
    "          .filter(['movieId', 'title'])\n",
    "          .assign(searching = lambda x: x['title'].str.lower().str.contains(title))\n",
    "          )\n",
    "    df = df.drop(df[df['searching']==False].index)\n",
    "    if df.shape[0] > 1:\n",
    "        print(\"Which one of the following movies do you mean? \")\n",
    "        movie_titles = df['title'].tolist()\n",
    "        n_movie = 1\n",
    "        for movie in movie_titles:\n",
    "            print(\"\\t\" + movie + \" [type \" + str(n_movie) + \"]\")\n",
    "            n_movie += 1\n",
    "        n_movie = input()\n",
    "        selected_movie = movie_titles[int(n_movie)-1]\n",
    "        df = df.query('title==@selected_movie')\n",
    "        print(f\"The selected movie has the id: {df['movieId'].tolist()[0]}\")\n",
    "    else: print(\"Sorry, no movie has been found!\")"
   ]
  },
  {
   "cell_type": "code",
   "execution_count": 13,
   "id": "01ec4e2e-9817-4ed2-844a-65388acbe6cf",
   "metadata": {},
   "outputs": [
    {
     "name": "stdout",
     "output_type": "stream",
     "text": [
      "What movie are you looking for?\n"
     ]
    },
    {
     "name": "stdin",
     "output_type": "stream",
     "text": [
      " nemo\n"
     ]
    },
    {
     "name": "stdout",
     "output_type": "stream",
     "text": [
      "Which one of the following movies do you mean? \n",
      "\tJohnny Mnemonic (1995) [type 1]\n",
      "\tLittle Nemo: Adventures in Slumberland (1992) [type 2]\n",
      "\tFinding Nemo (2003) [type 3]\n"
     ]
    },
    {
     "name": "stdin",
     "output_type": "stream",
     "text": [
      " 3\n"
     ]
    },
    {
     "name": "stdout",
     "output_type": "stream",
     "text": [
      "The selected movie has the id: 6377\n"
     ]
    }
   ],
   "source": [
    "movie_id_finder()"
   ]
  }
 ],
 "metadata": {
  "kernelspec": {
   "display_name": "Python 3",
   "language": "python",
   "name": "python3"
  },
  "language_info": {
   "codemirror_mode": {
    "name": "ipython",
    "version": 3
   },
   "file_extension": ".py",
   "mimetype": "text/x-python",
   "name": "python",
   "nbconvert_exporter": "python",
   "pygments_lexer": "ipython3",
   "version": "3.8.8"
  }
 },
 "nbformat": 4,
 "nbformat_minor": 5
}
