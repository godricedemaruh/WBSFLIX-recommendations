{
 "cells": [
  {
   "cell_type": "markdown",
   "id": "41451667-7f76-42f9-b2ce-458e7b1bb249",
   "metadata": {},
   "source": [
    "# WBSflix recommenders"
   ]
  },
  {
   "cell_type": "code",
   "execution_count": 1,
   "id": "474c31cf-23ac-442b-a537-3413ce7f7fb6",
   "metadata": {},
   "outputs": [],
   "source": [
    "import pandas as pd"
   ]
  },
  {
   "cell_type": "code",
   "execution_count": 2,
   "id": "e5684f89-479e-4744-a2f4-5a0d13ecf3da",
   "metadata": {},
   "outputs": [],
   "source": [
    "links = pd.read_csv('wbsflix-dataset/ml-latest-small/links.csv')\n",
    "movies = pd.read_csv('wbsflix-dataset/ml-latest-small/movies.csv')\n",
    "ratings = pd.read_csv('wbsflix-dataset/ml-latest-small/ratings.csv')\n",
    "tags = pd.read_csv('wbsflix-dataset/ml-latest-small/tags.csv')"
   ]
  },
  {
   "cell_type": "code",
   "execution_count": 3,
   "id": "59452885-d776-4b99-bd94-f99f9ad60e89",
   "metadata": {},
   "outputs": [],
   "source": [
    "import random"
   ]
  },
  {
   "cell_type": "markdown",
   "id": "7b53ab82-d756-4f20-9e5e-36e08e7da369",
   "metadata": {},
   "source": [
    "### Function that takes as an input a user id and outputs the top n movies of the user:"
   ]
  },
  {
   "cell_type": "code",
   "execution_count": 4,
   "id": "1c261665-31bc-406e-a15c-8ce1fa2fd3f4",
   "metadata": {},
   "outputs": [],
   "source": [
    "def top_movies(df_rate, df_movies, name, range_of_days:float, n):\n",
    "    top_movies_for_id = []\n",
    "    df_merge = (df_rate\n",
    "                .merge(df_movies, on='movieId')\n",
    "                .assign(time_count = round(abs(ratings['timestamp']-max(ratings['timestamp']))/60/60/24))\n",
    "                .sort_values('time_count')\n",
    "                .filter(['userId', 'rating', 'title', 'time_count'])\n",
    "                .query('time_count<=@range_of_days')\n",
    "               )\n",
    "    df_pivot = pd.pivot_table(df_merge, values='rating', columns='title', index='userId')\n",
    "    df_movie_list = df_pivot.columns.values.tolist()\n",
    "    random.shuffle(df_movie_list)\n",
    "    for value in df_movie_list:\n",
    "        if df_pivot.loc[name][value] >= 4:\n",
    "            top_movies_for_id.append(value)\n",
    "            if len(top_movies_for_id) == n:\n",
    "                break\n",
    "    return top_movies_for_id"
   ]
  },
  {
   "cell_type": "code",
   "execution_count": 5,
   "id": "2f59d8a2-3d1c-4dd0-916c-7ea085969f18",
   "metadata": {},
   "outputs": [
    {
     "data": {
      "text/plain": [
       "['20 Dates (1998)', 'Office Space (1999)', 'Easy Rider (1969)']"
      ]
     },
     "execution_count": 5,
     "metadata": {},
     "output_type": "execute_result"
    }
   ],
   "source": [
    "top_movies(ratings, movies, 1, 90, 5)"
   ]
  },
  {
   "cell_type": "markdown",
   "id": "0f511681-6df2-4bba-910f-8faac7699365",
   "metadata": {},
   "source": [
    "### Function to get the most popular movies"
   ]
  },
  {
   "cell_type": "code",
   "execution_count": 6,
   "id": "928b41ec-9b70-417f-96ce-9c4b2a1b610b",
   "metadata": {},
   "outputs": [],
   "source": [
    "def pop_movies(df_rate, df_movies, rate_tresh, range_of_days:float):\n",
    "    df_merge = (df_rate\n",
    "                .merge(df_movies, on='movieId')\n",
    "                .assign(time_count = round(abs(ratings['timestamp']-max(ratings['timestamp']))/60/60/24))\n",
    "                .sort_values('time_count')\n",
    "                .filter(['userId', 'rating', 'title', 'time_count'])\n",
    "                .query('time_count<=@range_of_days')\n",
    "               )\n",
    "    df = df_merge.groupby('title').agg(rate_count=('rating','count'), rate_mean=('rating','mean')).query('rate_count >= @rate_tresh').sort_values('rate_mean', ascending=False)\n",
    "    return df.index.to_list()"
   ]
  },
  {
   "cell_type": "code",
   "execution_count": 7,
   "id": "88dc1d4a-8085-4b6a-b629-1f8b3d3c7386",
   "metadata": {},
   "outputs": [
    {
     "data": {
      "text/plain": [
       "['Toy Story 2 (1999)',\n",
       " 'V for Vendetta (2006)',\n",
       " 'Social Network, The (2010)',\n",
       " 'Moneyball (2011)',\n",
       " 'Star Trek (2009)',\n",
       " 'Last Samurai, The (2003)',\n",
       " 'Star Trek II: The Wrath of Khan (1982)',\n",
       " 'Wrestler, The (2008)',\n",
       " 'Sin City (2005)',\n",
       " 'Dances with Wolves (1990)',\n",
       " 'Easy Rider (1969)',\n",
       " 'Pretty Woman (1990)',\n",
       " 'Jumanji (1995)',\n",
       " 'Snowpiercer (2013)',\n",
       " 'Spider-Man (2002)',\n",
       " 'Talented Mr. Ripley, The (1999)',\n",
       " 'Man of Steel (2013)',\n",
       " 'Ice Age 2: The Meltdown (2006)',\n",
       " 'Poseidon Adventure, The (1972)']"
      ]
     },
     "execution_count": 7,
     "metadata": {},
     "output_type": "execute_result"
    }
   ],
   "source": [
    "pop_movies(ratings, movies, 20, 90)"
   ]
  },
  {
   "cell_type": "markdown",
   "id": "7b437f23-66fa-42ca-bf74-023f8d0b1a5a",
   "metadata": {},
   "source": [
    "### Item-based Collaborative Filtering: Function which outputs the top n most similar movies to top rated movies of a user"
   ]
  },
  {
   "cell_type": "code",
   "execution_count": 8,
   "id": "d0ab45da-29fb-4399-986e-1f2416a3323f",
   "metadata": {},
   "outputs": [],
   "source": [
    "def item_based_recommender(df_rate, df_movies, top_movies, range_of_days:float, tresh_n):\n",
    "    recommend_movies = []\n",
    "    df_merge = (df_rate\n",
    "                .merge(df_movies, on='movieId')\n",
    "                .assign(time_count = round(abs(ratings['timestamp']-max(ratings['timestamp']))/60/60/24))\n",
    "                .sort_values('time_count')\n",
    "                .filter(['userId', 'rating', 'title', 'time_count'])\n",
    "                .query('time_count<=@range_of_days')\n",
    "               )\n",
    "    corr = pd.pivot_table(df_merge, values='rating', columns='title', index='userId').dropna(axis='index', thresh=tresh_n).corr()\n",
    "    top_corr = corr.filter(top_movies).round(1)\n",
    "    num_list = [0.9, 1.0]\n",
    "    for i in num_list: \n",
    "        for index, value in top_corr.iterrows():\n",
    "            if i in value.values:\n",
    "                recommend_movies.append(index)\n",
    "        return recommend_movies"
   ]
  },
  {
   "cell_type": "code",
   "execution_count": 9,
   "id": "990e21a1-9451-47a2-8e50-7d6f958b9270",
   "metadata": {
    "tags": []
   },
   "outputs": [
    {
     "data": {
      "text/plain": [
       "['Exorcist, The (1973)', 'Last Samurai, The (2003)', 'Mission to Mars (2000)']"
      ]
     },
     "execution_count": 9,
     "metadata": {},
     "output_type": "execute_result"
    }
   ],
   "source": [
    "my_list = top_movies(ratings, movies, 1, 90, 5)\n",
    "item_based_recommender(ratings, movies, my_list, 200, 20)"
   ]
  },
  {
   "cell_type": "markdown",
   "id": "dcc676a1-d401-46c7-a962-609d79bb0e01",
   "metadata": {},
   "source": [
    "### Function for Chat-Bot"
   ]
  },
  {
   "cell_type": "code",
   "execution_count": 10,
   "id": "ea13443f-b062-4833-9c8d-dea392decc7c",
   "metadata": {},
   "outputs": [],
   "source": [
    "def chat_bot(recom_list, user_id):\n",
    "    print(f'''Hi {user_id}! I am your personal recommender.\n",
    "    Would you like me to recommend you some popular movies based on your previous ratings?''')\n",
    "    print(f'''Type [y]/[n]''')\n",
    "    x=input()\n",
    "    if(x == 'y'):\n",
    "        list_of_movies = recom_list\n",
    "        for movie in list_of_movies:\n",
    "            print(f'''{movie}''')\n",
    "    else:\n",
    "        print(f'''Goodbye''')"
   ]
  },
  {
   "cell_type": "code",
   "execution_count": 11,
   "id": "b84a400d-4a1a-4099-b076-c20f610a0f5c",
   "metadata": {},
   "outputs": [
    {
     "name": "stdout",
     "output_type": "stream",
     "text": [
      "Hi 1! I am your personal recommender.\n",
      "    Would you like me to recommend you some popular movies based on your previous ratings?\n",
      "Type [y]/[n]\n"
     ]
    },
    {
     "name": "stdin",
     "output_type": "stream",
     "text": [
      " y\n"
     ]
    },
    {
     "name": "stdout",
     "output_type": "stream",
     "text": [
      "Exorcist, The (1973)\n",
      "Last Samurai, The (2003)\n",
      "Mission to Mars (2000)\n"
     ]
    }
   ],
   "source": [
    "chat_bot(item_based_recommender(ratings, movies, top_movies(ratings, movies, 1, 90, 5), 200, 20), 1)"
   ]
  },
  {
   "cell_type": "code",
   "execution_count": 12,
   "id": "e0ef2f55-45f8-45a3-bc91-2c65508c2178",
   "metadata": {},
   "outputs": [
    {
     "name": "stdout",
     "output_type": "stream",
     "text": [
      "Hi 1! I am your personal recommender.\n",
      "    Would you like me to recommend you some popular movies based on your previous ratings?\n",
      "Type [y]/[n]\n"
     ]
    },
    {
     "name": "stdin",
     "output_type": "stream",
     "text": [
      " n\n"
     ]
    },
    {
     "name": "stdout",
     "output_type": "stream",
     "text": [
      "Goodbye\n"
     ]
    }
   ],
   "source": [
    "chat_bot(item_based_recommender(ratings, movies, top_movies(ratings, movies, 1, 90, 5), 200, 20), 1)"
   ]
  }
 ],
 "metadata": {
  "kernelspec": {
   "display_name": "Python 3",
   "language": "python",
   "name": "python3"
  },
  "language_info": {
   "codemirror_mode": {
    "name": "ipython",
    "version": 3
   },
   "file_extension": ".py",
   "mimetype": "text/x-python",
   "name": "python",
   "nbconvert_exporter": "python",
   "pygments_lexer": "ipython3",
   "version": "3.8.8"
  }
 },
 "nbformat": 4,
 "nbformat_minor": 5
}
